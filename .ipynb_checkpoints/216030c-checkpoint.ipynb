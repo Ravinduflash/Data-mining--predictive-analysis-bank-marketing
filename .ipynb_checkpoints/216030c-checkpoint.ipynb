{
 "cells": [
  {
   "cell_type": "markdown",
   "id": "01a51936",
   "metadata": {},
   "source": [
    "# Bank Marketing Analysis\n",
    "\n",
    "This notebook contains the analysis of the Bank Marketing dataset."
   ]
  },
  {
   "cell_type": "code",
   "execution_count": null,
   "id": "b37cc65d",
   "metadata": {},
   "outputs": [],
   "source": [
    "import pandas as pd\n",
    "\n",
    "# Load the datasets\n",
    "train_df = pd.read_csv('/home/user/train.csv')\n",
    "test_df = pd.read_csv('/home/user/test.csv')\n",
    "\n",
    "# Display the first few rows of the train dataset\n",
    "train_df.head()"
   ]
  }
 ],
 "metadata": {},
 "nbformat": 4,
 "nbformat_minor": 5
}
